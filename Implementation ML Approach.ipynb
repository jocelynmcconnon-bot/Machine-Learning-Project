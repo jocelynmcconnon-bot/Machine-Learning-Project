{
  "nbformat": 4,
  "nbformat_minor": 0,
  "metadata": {
    "colab": {
      "name": "Implementation of ML Approach.ipynb",
      "provenance": []
    },
    "kernelspec": {
      "display_name": "Python 3",
      "name": "python3"
    },
    "language_info": {
      "name": "python"
    }
  },
  "cells": [
    {
      "cell_type": "markdown",
      "metadata": {
        "id": "G6kDPCLMp_aa"
      },
      "source": [
        "Import training data:"
      ]
    },
    {
      "cell_type": "code",
      "metadata": {
        "colab": {
          "base_uri": "https://localhost:8080/"
        },
        "id": "zcHmYfwVGdtK",
        "outputId": "019fcc79-cc95-4e39-abac-41e3d0e5fc3a"
      },
      "source": [
        "from google.colab import drive\n",
        "drive.mount(\"/content/gdrive\")"
      ],
      "execution_count": 2,
      "outputs": [
        {
          "output_type": "stream",
          "text": [
            "Mounted at /content/gdrive\n"
          ],
          "name": "stdout"
        }
      ]
    },
    {
      "cell_type": "code",
      "metadata": {
        "id": "SHaUIRCzGoA1"
      },
      "source": [
        "import pandas as pd\n",
        "sales_train = pd.read_csv('/content/gdrive/My Drive/Machine Learning/Project 1/sales_train.csv')\n",
        "items = pd.read_csv('/content/gdrive/My Drive/Machine Learning/Project 1/items.csv')\n",
        "categories = pd.read_csv('/content/gdrive/My Drive/Machine Learning/Project 1/item_categories.csv')"
      ],
      "execution_count": 3,
      "outputs": []
    },
    {
      "cell_type": "markdown",
      "metadata": {
        "id": "c3qsPVz4tVVm"
      },
      "source": [
        "Merge sales data with category and item information:"
      ]
    },
    {
      "cell_type": "code",
      "metadata": {
        "id": "HmTSEnUltU9r"
      },
      "source": [
        "sales_train = sales_train.merge(items, 'left', on = 'item_id')\n",
        "sales_train = sales_train.merge(categories, 'left', on = 'item_category_id')"
      ],
      "execution_count": 4,
      "outputs": []
    },
    {
      "cell_type": "markdown",
      "metadata": {
        "id": "w-oSO2rQqGZZ"
      },
      "source": [
        "Add 'month' feature:"
      ]
    },
    {
      "cell_type": "code",
      "metadata": {
        "id": "es-PQEY9Fecm"
      },
      "source": [
        "sales_train['date'] = pd.to_datetime(sales_train['date'],format='%d.%m.%Y')\n",
        "sales_train['month'] = [sales_train.date[i].month for i in range(len(sales_train))]"
      ],
      "execution_count": 5,
      "outputs": []
    },
    {
      "cell_type": "markdown",
      "metadata": {
        "id": "H4dVy10Fql7o"
      },
      "source": [
        "Remove outlying data:"
      ]
    },
    {
      "cell_type": "code",
      "metadata": {
        "id": "Dq31aUbfqld6"
      },
      "source": [
        "sales_train = sales_train[sales_train.item_price < 100000]\n",
        "sales_train = sales_train[sales_train.item_price > 0]\n",
        "sales_train = sales_train[sales_train.item_cnt_day < 999]"
      ],
      "execution_count": 6,
      "outputs": []
    },
    {
      "cell_type": "markdown",
      "metadata": {
        "id": "SvhrtSkfQ0Qz"
      },
      "source": [
        "Add 'monthly sales performance' feature:"
      ]
    },
    {
      "cell_type": "code",
      "metadata": {
        "colab": {
          "base_uri": "https://localhost:8080/"
        },
        "id": "CUFlL70bQ6oP",
        "outputId": "a5b78ea7-2663-4051-d7a2-4e3d92c6579e"
      },
      "source": [
        "temp = sales_train.groupby(['date_block_num','shop_id',\"item_id\"]).agg({'item_cnt_day': ['sum']})\n",
        "sales_train = sales_train.merge(temp, on = [\"shop_id\", \"date_block_num\",\"item_id\"])"
      ],
      "execution_count": 7,
      "outputs": [
        {
          "output_type": "stream",
          "text": [
            "/usr/local/lib/python3.7/dist-packages/pandas/core/reshape/merge.py:643: UserWarning: merging between different levels can give an unintended result (1 levels on the left,2 on the right)\n",
            "  warnings.warn(msg, UserWarning)\n"
          ],
          "name": "stderr"
        }
      ]
    },
    {
      "cell_type": "markdown",
      "metadata": {
        "id": "E_TjFcYVdBQU"
      },
      "source": [
        "Add 'monthly price performance' feature"
      ]
    },
    {
      "cell_type": "code",
      "metadata": {
        "colab": {
          "base_uri": "https://localhost:8080/"
        },
        "id": "WvOxwulXhVLN",
        "outputId": "7dda2998-ae4b-42d4-b44a-0a536563f528"
      },
      "source": [
        "temp = sales_train.groupby(['date_block_num','shop_id',\"item_id\"]).agg({'item_price': ['sum']})\n",
        "sales_train = sales_train.merge(temp, on = [\"shop_id\", \"date_block_num\",\"item_id\"])\n",
        "sales_train[('item_price', 'sum')] = sales_train[('item_price', 'sum')]/(sales_train[('item_cnt_day', 'sum')] + 0.01)"
      ],
      "execution_count": 17,
      "outputs": [
        {
          "output_type": "stream",
          "text": [
            "/usr/local/lib/python3.7/dist-packages/pandas/core/reshape/merge.py:643: UserWarning: merging between different levels can give an unintended result (1 levels on the left,2 on the right)\n",
            "  warnings.warn(msg, UserWarning)\n"
          ],
          "name": "stderr"
        }
      ]
    },
    {
      "cell_type": "markdown",
      "metadata": {
        "id": "wWLlev_mr-HP"
      },
      "source": [
        "Add 'category' feature:"
      ]
    },
    {
      "cell_type": "code",
      "metadata": {
        "id": "o3dO5vixsBTI"
      },
      "source": [
        "sales_train['split'] = sales_train['item_category_name'].str.split('-')\n",
        "sales_train['type'] = sales_train['split'].map(lambda x: x[0].strip())\n",
        "\n",
        "sales_train = sales_train.drop(columns =[\"item_name\", \"item_category_name\", \"split\"])"
      ],
      "execution_count": 35,
      "outputs": []
    },
    {
      "cell_type": "markdown",
      "metadata": {
        "id": "rWMxHvf1sBD0"
      },
      "source": [
        "Encode categorical features:"
      ]
    },
    {
      "cell_type": "code",
      "metadata": {
        "id": "UKF6PpoSskMr"
      },
      "source": [
        "from sklearn import preprocessing\n",
        "le = preprocessing.LabelEncoder()\n",
        "\n",
        "sales_train['type'] = le.fit_transform(sales_train['type'])"
      ],
      "execution_count": 36,
      "outputs": []
    },
    {
      "cell_type": "markdown",
      "metadata": {
        "id": "_OUIndVGta3u"
      },
      "source": [
        "Set target values:"
      ]
    },
    {
      "cell_type": "code",
      "metadata": {
        "id": "k-p2hlWqHDJe"
      },
      "source": [
        "target = sales_train[\"item_cnt_day\"]"
      ],
      "execution_count": 37,
      "outputs": []
    },
    {
      "cell_type": "markdown",
      "metadata": {
        "id": "33Cfgy6htnGP"
      },
      "source": [
        "Standardize training data:"
      ]
    },
    {
      "cell_type": "code",
      "metadata": {
        "colab": {
          "base_uri": "https://localhost:8080/",
          "height": 449
        },
        "id": "lMlsW1CDHQz7",
        "outputId": "aea282ae-c29b-49fc-bc51-bb9c6c8f3912"
      },
      "source": [
        "from sklearn.preprocessing import StandardScaler\n",
        "X = sales_train.drop(columns =[\"item_cnt_day\", \"date\"])\n",
        "feature_names = list(X.columns)\n",
        "X = StandardScaler().fit_transform(X)\n",
        "X = pd.DataFrame(X, columns = feature_names)\n",
        "X"
      ],
      "execution_count": 38,
      "outputs": [
        {
          "output_type": "execute_result",
          "data": {
            "text/html": [
              "<div>\n",
              "<style scoped>\n",
              "    .dataframe tbody tr th:only-of-type {\n",
              "        vertical-align: middle;\n",
              "    }\n",
              "\n",
              "    .dataframe tbody tr th {\n",
              "        vertical-align: top;\n",
              "    }\n",
              "\n",
              "    .dataframe thead th {\n",
              "        text-align: right;\n",
              "    }\n",
              "</style>\n",
              "<table border=\"1\" class=\"dataframe\">\n",
              "  <thead>\n",
              "    <tr style=\"text-align: right;\">\n",
              "      <th></th>\n",
              "      <th>date_block_num</th>\n",
              "      <th>shop_id</th>\n",
              "      <th>item_id</th>\n",
              "      <th>item_price</th>\n",
              "      <th>item_category_id</th>\n",
              "      <th>month</th>\n",
              "      <th>(item_cnt_day, sum)</th>\n",
              "      <th>(item_price, sum)</th>\n",
              "      <th>type</th>\n",
              "    </tr>\n",
              "  </thead>\n",
              "  <tbody>\n",
              "    <tr>\n",
              "      <th>0</th>\n",
              "      <td>-1.546210</td>\n",
              "      <td>1.602163</td>\n",
              "      <td>1.890609</td>\n",
              "      <td>0.062918</td>\n",
              "      <td>-0.175512</td>\n",
              "      <td>-1.483991</td>\n",
              "      <td>-0.214403</td>\n",
              "      <td>-0.011295</td>\n",
              "      <td>0.322209</td>\n",
              "    </tr>\n",
              "    <tr>\n",
              "      <th>1</th>\n",
              "      <td>-1.546210</td>\n",
              "      <td>-0.493114</td>\n",
              "      <td>-1.208866</td>\n",
              "      <td>0.004795</td>\n",
              "      <td>1.052506</td>\n",
              "      <td>-1.483991</td>\n",
              "      <td>-0.247974</td>\n",
              "      <td>8.762633</td>\n",
              "      <td>0.893684</td>\n",
              "    </tr>\n",
              "    <tr>\n",
              "      <th>2</th>\n",
              "      <td>-1.546210</td>\n",
              "      <td>-0.493114</td>\n",
              "      <td>-1.208866</td>\n",
              "      <td>0.004795</td>\n",
              "      <td>1.052506</td>\n",
              "      <td>-1.483991</td>\n",
              "      <td>-0.247974</td>\n",
              "      <td>8.762633</td>\n",
              "      <td>0.893684</td>\n",
              "    </tr>\n",
              "    <tr>\n",
              "      <th>3</th>\n",
              "      <td>-1.546210</td>\n",
              "      <td>-0.493114</td>\n",
              "      <td>-1.208550</td>\n",
              "      <td>0.475620</td>\n",
              "      <td>1.052506</td>\n",
              "      <td>-1.483991</td>\n",
              "      <td>-0.214403</td>\n",
              "      <td>0.023201</td>\n",
              "      <td>0.893684</td>\n",
              "    </tr>\n",
              "    <tr>\n",
              "      <th>4</th>\n",
              "      <td>-1.546210</td>\n",
              "      <td>-0.493114</td>\n",
              "      <td>-1.208392</td>\n",
              "      <td>0.121041</td>\n",
              "      <td>0.935552</td>\n",
              "      <td>-1.483991</td>\n",
              "      <td>-0.214403</td>\n",
              "      <td>-0.006436</td>\n",
              "      <td>0.893684</td>\n",
              "    </tr>\n",
              "    <tr>\n",
              "      <th>...</th>\n",
              "      <td>...</td>\n",
              "      <td>...</td>\n",
              "      <td>...</td>\n",
              "      <td>...</td>\n",
              "      <td>...</td>\n",
              "      <td>...</td>\n",
              "      <td>...</td>\n",
              "      <td>...</td>\n",
              "      <td>...</td>\n",
              "    </tr>\n",
              "    <tr>\n",
              "      <th>2935840</th>\n",
              "      <td>1.955866</td>\n",
              "      <td>-0.493114</td>\n",
              "      <td>-0.440875</td>\n",
              "      <td>-0.343942</td>\n",
              "      <td>0.877075</td>\n",
              "      <td>1.061101</td>\n",
              "      <td>-0.147260</td>\n",
              "      <td>-0.045206</td>\n",
              "      <td>0.893684</td>\n",
              "    </tr>\n",
              "    <tr>\n",
              "      <th>2935841</th>\n",
              "      <td>1.955866</td>\n",
              "      <td>-0.493114</td>\n",
              "      <td>-0.443405</td>\n",
              "      <td>-0.314881</td>\n",
              "      <td>0.877075</td>\n",
              "      <td>1.061101</td>\n",
              "      <td>-0.214403</td>\n",
              "      <td>-0.042873</td>\n",
              "      <td>0.893684</td>\n",
              "    </tr>\n",
              "    <tr>\n",
              "      <th>2935842</th>\n",
              "      <td>1.955866</td>\n",
              "      <td>-0.493114</td>\n",
              "      <td>-0.444828</td>\n",
              "      <td>-0.082389</td>\n",
              "      <td>0.877075</td>\n",
              "      <td>1.061101</td>\n",
              "      <td>-0.214403</td>\n",
              "      <td>-0.023440</td>\n",
              "      <td>0.893684</td>\n",
              "    </tr>\n",
              "    <tr>\n",
              "      <th>2935843</th>\n",
              "      <td>1.955866</td>\n",
              "      <td>-0.493114</td>\n",
              "      <td>-0.432969</td>\n",
              "      <td>-0.314881</td>\n",
              "      <td>0.877075</td>\n",
              "      <td>1.061101</td>\n",
              "      <td>-0.214403</td>\n",
              "      <td>-0.042873</td>\n",
              "      <td>0.893684</td>\n",
              "    </tr>\n",
              "    <tr>\n",
              "      <th>2935844</th>\n",
              "      <td>1.955866</td>\n",
              "      <td>-0.493114</td>\n",
              "      <td>-0.435974</td>\n",
              "      <td>-0.343942</td>\n",
              "      <td>0.994029</td>\n",
              "      <td>1.061101</td>\n",
              "      <td>-0.214403</td>\n",
              "      <td>-0.045302</td>\n",
              "      <td>0.893684</td>\n",
              "    </tr>\n",
              "  </tbody>\n",
              "</table>\n",
              "<p>2935845 rows × 9 columns</p>\n",
              "</div>"
            ],
            "text/plain": [
              "         date_block_num   shop_id  ...  (item_price, sum)      type\n",
              "0             -1.546210  1.602163  ...          -0.011295  0.322209\n",
              "1             -1.546210 -0.493114  ...           8.762633  0.893684\n",
              "2             -1.546210 -0.493114  ...           8.762633  0.893684\n",
              "3             -1.546210 -0.493114  ...           0.023201  0.893684\n",
              "4             -1.546210 -0.493114  ...          -0.006436  0.893684\n",
              "...                 ...       ...  ...                ...       ...\n",
              "2935840        1.955866 -0.493114  ...          -0.045206  0.893684\n",
              "2935841        1.955866 -0.493114  ...          -0.042873  0.893684\n",
              "2935842        1.955866 -0.493114  ...          -0.023440  0.893684\n",
              "2935843        1.955866 -0.493114  ...          -0.042873  0.893684\n",
              "2935844        1.955866 -0.493114  ...          -0.045302  0.893684\n",
              "\n",
              "[2935845 rows x 9 columns]"
            ]
          },
          "metadata": {
            "tags": []
          },
          "execution_count": 38
        }
      ]
    },
    {
      "cell_type": "markdown",
      "metadata": {
        "id": "z4WkkE6jts1G"
      },
      "source": [
        "Generate  training and testing data:"
      ]
    },
    {
      "cell_type": "code",
      "metadata": {
        "id": "jlIgxM1vHfD2"
      },
      "source": [
        "from sklearn.model_selection import train_test_split\n",
        "X_train, X_test, y_train, y_test = train_test_split(X, target, random_state = 30, test_size = 0.3, train_size = 0.7)"
      ],
      "execution_count": 43,
      "outputs": []
    },
    {
      "cell_type": "code",
      "metadata": {
        "colab": {
          "base_uri": "https://localhost:8080/"
        },
        "id": "lp9esmodHu9M",
        "outputId": "9a587562-e3d3-4c15-ea32-3ccfed59d1f8"
      },
      "source": [
        "from sklearn import linear_model\n",
        "from sklearn.metrics import mean_squared_error\n",
        "import math \n",
        "\n",
        "regr = linear_model.LinearRegression()\n",
        "regr.fit(X_train, y_train)\n",
        "y_pred = regr.predict(X_test)\n",
        "mse = round(mean_squared_error(y_test, y_pred), 2)\n",
        "rmse = math.sqrt(mse)\n",
        "print(rmse)"
      ],
      "execution_count": 44,
      "outputs": [
        {
          "output_type": "stream",
          "text": [
            "1.849324200890693\n"
          ],
          "name": "stdout"
        }
      ]
    },
    {
      "cell_type": "code",
      "metadata": {
        "colab": {
          "base_uri": "https://localhost:8080/",
          "height": 302
        },
        "id": "4zIRBBDXiEY6",
        "outputId": "fe990064-60db-476e-8065-75c255102cd5"
      },
      "source": [
        "from matplotlib import pyplot\n",
        "importance = regr.coef_\n",
        "pyplot.bar([x for x in range(len(importance))], importance)\n",
        "pyplot.xticks([x for x in range(len(importance))], X.columns)\n",
        "pyplot.title('Feature Importance: Linear Regression')\n",
        "pyplot.show()"
      ],
      "execution_count": 45,
      "outputs": [
        {
          "output_type": "display_data",
          "data": {
            "image/png": "[encoded data removed]",
            "text/plain": [
              "<Figure size 432x288 with 1 Axes>"
            ]
          },
          "metadata": {
            "tags": [],
            "needs_background": "light"
          }
        }
      ]
    },
    {
      "cell_type": "code",
      "metadata": {
        "colab": {
          "base_uri": "https://localhost:8080/"
        },
        "id": "Ws6KmrGxaP8F",
        "outputId": "63e9931c-f4d4-418c-956c-dd6d673e6e0d"
      },
      "source": [
        "import numpy as np\n",
        "from sklearn.tree import DecisionTreeClassifier\n",
        "from sklearn.ensemble import RandomForestClassifier\n",
        "from sklearn.metrics import accuracy_score\n",
        "from sklearn.neighbors import KNeighborsClassifier\n",
        "from sklearn import metrics\n",
        "from sklearn.svm import SVC\n",
        "\n",
        "# Decisiontree\n",
        "dt = DecisionTreeClassifier(max_depth=3, random_state=0)\n",
        "dt.fit(X_train, y_train)\n",
        "y_pred_dt = dt.predict(X_test)\n",
        "mse = round(mean_squared_error(y_test, y_pred_dt), 2)\n",
        "rmse = math.sqrt(mse)\n",
        "print(rmse)"
      ],
      "execution_count": 46,
      "outputs": [
        {
          "output_type": "stream",
          "text": [
            "2.0952326839756963\n"
          ],
          "name": "stdout"
        }
      ]
    },
    {
      "cell_type": "code",
      "metadata": {
        "colab": {
          "base_uri": "https://localhost:8080/",
          "height": 302
        },
        "id": "5aw9mfB1jIC5",
        "outputId": "7d3c5a0c-0ba8-47fd-f754-064391b9a1f4"
      },
      "source": [
        "importance = dt.feature_importances_\n",
        "pyplot.bar([x for x in range(len(importance))], importance)\n",
        "pyplot.xticks([x for x in range(len(importance))], X.columns)\n",
        "pyplot.title('Feature Importance: Decision Tree')\n",
        "pyplot.show()"
      ],
      "execution_count": 47,
      "outputs": [
        {
          "output_type": "display_data",
          "data": {
            "image/png": "[encoded data removed]",
            "text/plain": [
              "<Figure size 432x288 with 1 Axes>"
            ]
          },
          "metadata": {
            "tags": [],
            "needs_background": "light"
          }
        }
      ]
    },
    {
      "cell_type": "code",
      "metadata": {
        "colab": {
          "base_uri": "https://localhost:8080/"
        },
        "id": "YhJ5MAVnaYID",
        "outputId": "f87e21b3-2449-4f2b-e574-9eab47fa40a7"
      },
      "source": [
        "# randomforestclassifier\n",
        "rf = RandomForestClassifier(max_depth=3, random_state=0)\n",
        "rf.fit(X_train, y_train)\n",
        "y_pred_rf = rf.predict(X_test)\n",
        "mse = round(mean_squared_error(y_test, y_pred_rf), 2)\n",
        "rmse = math.sqrt(mse)\n",
        "print(rmse)"
      ],
      "execution_count": 48,
      "outputs": [
        {
          "output_type": "stream",
          "text": [
            "2.130727575266252\n"
          ],
          "name": "stdout"
        }
      ]
    },
    {
      "cell_type": "code",
      "metadata": {
        "colab": {
          "base_uri": "https://localhost:8080/",
          "height": 302
        },
        "id": "GrSY0YGln7hW",
        "outputId": "4e014aaf-c579-4f47-ba1d-147ba2c37fa0"
      },
      "source": [
        "importance = rf.feature_importances_\n",
        "pyplot.bar([x for x in range(len(importance))], importance)\n",
        "pyplot.xticks([x for x in range(len(importance))], X.columns)\n",
        "pyplot.title('Feature Importance: Random Forest')\n",
        "pyplot.show()"
      ],
      "execution_count": 49,
      "outputs": [
        {
          "output_type": "display_data",
          "data": {
            "image/png": "[encoded data removed]",
            "text/plain": [
              "<Figure size 432x288 with 1 Axes>"
            ]
          },
          "metadata": {
            "tags": [],
            "needs_background": "light"
          }
        }
      ]
    },
    {
      "cell_type": "markdown",
      "metadata": {
        "id": "OSphoonZfIjl"
      },
      "source": [
        "Add PCA:"
      ]
    },
    {
      "cell_type": "code",
      "metadata": {
        "id": "OIesaQUQfJ4R"
      },
      "source": [
        "from sklearn.decomposition import PCA\n",
        "pca = PCA(n_components=4)\n",
        "principalComponents = pca.fit_transform(X)\n",
        "\n",
        "X = pd.DataFrame(data = principalComponents, columns = ['pca1', 'pca2', 'pca3', 'pca4'])"
      ],
      "execution_count": 66,
      "outputs": []
    },
    {
      "cell_type": "markdown",
      "metadata": {
        "id": "8TmJM7oWfQHf"
      },
      "source": [
        "Generate training and testing data:"
      ]
    },
    {
      "cell_type": "code",
      "metadata": {
        "id": "nlQKLUnQfUML"
      },
      "source": [
        "from sklearn.model_selection import train_test_split\n",
        "X_train, X_test, y_train, y_test = train_test_split(X, target, random_state = 30, test_size = 0.3, train_size = 0.7)"
      ],
      "execution_count": 67,
      "outputs": []
    },
    {
      "cell_type": "code",
      "metadata": {
        "colab": {
          "base_uri": "https://localhost:8080/"
        },
        "id": "thH2qqnefXSS",
        "outputId": "d2193510-9210-43aa-ecf1-8f972e37e203"
      },
      "source": [
        "from sklearn import linear_model\n",
        "from sklearn.metrics import mean_squared_error\n",
        "import math \n",
        "\n",
        "regr = linear_model.LinearRegression()\n",
        "regr.fit(X_train, y_train)\n",
        "y_pred = regr.predict(X_test)\n",
        "mse = round(mean_squared_error(y_test, y_pred), 2)\n",
        "rmse = math.sqrt(mse)\n",
        "print(rmse)"
      ],
      "execution_count": 68,
      "outputs": [
        {
          "output_type": "stream",
          "text": [
            "1.849324200890693\n"
          ],
          "name": "stdout"
        }
      ]
    },
    {
      "cell_type": "code",
      "metadata": {
        "colab": {
          "base_uri": "https://localhost:8080/",
          "height": 301
        },
        "id": "PH6DUoPYfl-r",
        "outputId": "38325b21-cfd2-4f29-98f3-f544111a1fd3"
      },
      "source": [
        "from matplotlib import pyplot\n",
        "importance = regr.coef_\n",
        "pyplot.bar([x for x in range(len(importance))], importance)\n",
        "pyplot.xticks([x for x in range(len(importance))], X.columns)\n",
        "pyplot.title('Feature Importance: Linear Regression')\n",
        "pyplot.show()"
      ],
      "execution_count": 69,
      "outputs": [
        {
          "output_type": "display_data",
          "data": {
            "image/png": "[encoded data removed]",
            "text/plain": [
              "<Figure size 432x288 with 1 Axes>"
            ]
          },
          "metadata": {
            "tags": [],
            "needs_background": "light"
          }
        }
      ]
    },
    {
      "cell_type": "code",
      "metadata": {
        "colab": {
          "base_uri": "https://localhost:8080/"
        },
        "id": "BK82ZUZtfv8N",
        "outputId": "faec27c1-f646-4bce-db66-dc892424fd06"
      },
      "source": [
        "import numpy as np\n",
        "from sklearn.tree import DecisionTreeClassifier\n",
        "from sklearn.ensemble import RandomForestClassifier\n",
        "from sklearn.metrics import accuracy_score\n",
        "from sklearn.neighbors import KNeighborsClassifier\n",
        "from sklearn import metrics\n",
        "from sklearn.svm import SVC\n",
        "\n",
        "# Decisiontree\n",
        "dt = DecisionTreeClassifier(max_depth=3, random_state=0)\n",
        "dt.fit(X_train, y_train)\n",
        "y_pred_dt = dt.predict(X_test)\n",
        "mse = round(mean_squared_error(y_test, y_pred_dt), 2)\n",
        "rmse = math.sqrt(mse)\n",
        "print(rmse)"
      ],
      "execution_count": 70,
      "outputs": [
        {
          "output_type": "stream",
          "text": [
            "2.0952326839756963\n"
          ],
          "name": "stdout"
        }
      ]
    },
    {
      "cell_type": "code",
      "metadata": {
        "colab": {
          "base_uri": "https://localhost:8080/",
          "height": 301
        },
        "id": "IQkdvsXlf60I",
        "outputId": "6303484a-2274-47d4-988a-309614447866"
      },
      "source": [
        "importance = dt.feature_importances_\n",
        "pyplot.bar([x for x in range(len(importance))], importance)\n",
        "pyplot.xticks([x for x in range(len(importance))], X.columns)\n",
        "pyplot.title('Feature Importance: Decision Tree')\n",
        "pyplot.show()"
      ],
      "execution_count": 71,
      "outputs": [
        {
          "output_type": "display_data",
          "data": {
            "image/png": "[encoded data removed]",
            "text/plain": [
              "<Figure size 432x288 with 1 Axes>"
            ]
          },
          "metadata": {
            "tags": [],
            "needs_background": "light"
          }
        }
      ]
    },
    {
      "cell_type": "code",
      "metadata": {
        "colab": {
          "base_uri": "https://localhost:8080/"
        },
        "id": "5qJBvVfrf90y",
        "outputId": "87612fa1-0567-43d9-b8d3-905b5e3c1a1e"
      },
      "source": [
        "# randomforestclassifier\n",
        "rf = RandomForestClassifier(max_depth=3, random_state=0)\n",
        "rf.fit(X_train, y_train)\n",
        "y_pred_rf = rf.predict(X_test)\n",
        "mse = round(mean_squared_error(y_test, y_pred_rf), 2)\n",
        "rmse = math.sqrt(mse)\n",
        "print(rmse)"
      ],
      "execution_count": 72,
      "outputs": [
        {
          "output_type": "stream",
          "text": [
            "2.1118712081942874\n"
          ],
          "name": "stdout"
        }
      ]
    },
    {
      "cell_type": "code",
      "metadata": {
        "colab": {
          "base_uri": "https://localhost:8080/",
          "height": 301
        },
        "id": "ATctC1echH-R",
        "outputId": "60dd36ac-2338-40f3-af33-c46432d95cbb"
      },
      "source": [
        "importance = rf.feature_importances_\n",
        "pyplot.bar([x for x in range(len(importance))], importance)\n",
        "pyplot.xticks([x for x in range(len(importance))], X.columns)\n",
        "pyplot.title('Feature Importance: Random Forest')\n",
        "pyplot.show()"
      ],
      "execution_count": 73,
      "outputs": [
        {
          "output_type": "display_data",
          "data": {
            "image/png": "[encoded data removed]",
            "text/plain": [
              "<Figure size 432x288 with 1 Axes>"
            ]
          },
          "metadata": {
            "tags": [],
            "needs_background": "light"
          }
        }
      ]
    },
    {
      "cell_type": "markdown",
      "metadata": {
        "id": "7ws7rjlihPAn"
      },
      "source": [
        "Add K-Means:"
      ]
    },
    {
      "cell_type": "code",
      "metadata": {
        "colab": {
          "base_uri": "https://localhost:8080/",
          "height": 449
        },
        "id": "Pv8y3rO8i9Rx",
        "outputId": "53656c41-5986-401d-84b0-1b8f583ab651"
      },
      "source": [
        "from sklearn.preprocessing import StandardScaler\n",
        "X = sales_train.drop(columns =[\"item_cnt_day\", \"date\"])\n",
        "feature_names = list(X.columns)\n",
        "#X = StandardScaler().fit_transform(X)\n",
        "X = pd.DataFrame(X, columns = feature_names)\n",
        "X"
      ],
      "execution_count": 74,
      "outputs": [
        {
          "output_type": "execute_result",
          "data": {
            "text/html": [
              "<div>\n",
              "<style scoped>\n",
              "    .dataframe tbody tr th:only-of-type {\n",
              "        vertical-align: middle;\n",
              "    }\n",
              "\n",
              "    .dataframe tbody tr th {\n",
              "        vertical-align: top;\n",
              "    }\n",
              "\n",
              "    .dataframe thead th {\n",
              "        text-align: right;\n",
              "    }\n",
              "</style>\n",
              "<table border=\"1\" class=\"dataframe\">\n",
              "  <thead>\n",
              "    <tr style=\"text-align: right;\">\n",
              "      <th></th>\n",
              "      <th>date_block_num</th>\n",
              "      <th>shop_id</th>\n",
              "      <th>item_id</th>\n",
              "      <th>item_price</th>\n",
              "      <th>item_category_id</th>\n",
              "      <th>month</th>\n",
              "      <th>(item_cnt_day, sum)</th>\n",
              "      <th>(item_price, sum)</th>\n",
              "      <th>type</th>\n",
              "    </tr>\n",
              "  </thead>\n",
              "  <tbody>\n",
              "    <tr>\n",
              "      <th>0</th>\n",
              "      <td>0</td>\n",
              "      <td>59</td>\n",
              "      <td>22154</td>\n",
              "      <td>999.00</td>\n",
              "      <td>37</td>\n",
              "      <td>1</td>\n",
              "      <td>1.0</td>\n",
              "      <td>989.108911</td>\n",
              "      <td>11</td>\n",
              "    </tr>\n",
              "    <tr>\n",
              "      <th>1</th>\n",
              "      <td>0</td>\n",
              "      <td>25</td>\n",
              "      <td>2552</td>\n",
              "      <td>899.00</td>\n",
              "      <td>58</td>\n",
              "      <td>1</td>\n",
              "      <td>0.0</td>\n",
              "      <td>179800.000000</td>\n",
              "      <td>13</td>\n",
              "    </tr>\n",
              "    <tr>\n",
              "      <th>2</th>\n",
              "      <td>0</td>\n",
              "      <td>25</td>\n",
              "      <td>2552</td>\n",
              "      <td>899.00</td>\n",
              "      <td>58</td>\n",
              "      <td>1</td>\n",
              "      <td>0.0</td>\n",
              "      <td>179800.000000</td>\n",
              "      <td>13</td>\n",
              "    </tr>\n",
              "    <tr>\n",
              "      <th>3</th>\n",
              "      <td>0</td>\n",
              "      <td>25</td>\n",
              "      <td>2554</td>\n",
              "      <td>1709.05</td>\n",
              "      <td>58</td>\n",
              "      <td>1</td>\n",
              "      <td>1.0</td>\n",
              "      <td>1692.128713</td>\n",
              "      <td>13</td>\n",
              "    </tr>\n",
              "    <tr>\n",
              "      <th>4</th>\n",
              "      <td>0</td>\n",
              "      <td>25</td>\n",
              "      <td>2555</td>\n",
              "      <td>1099.00</td>\n",
              "      <td>56</td>\n",
              "      <td>1</td>\n",
              "      <td>1.0</td>\n",
              "      <td>1088.118812</td>\n",
              "      <td>13</td>\n",
              "    </tr>\n",
              "    <tr>\n",
              "      <th>...</th>\n",
              "      <td>...</td>\n",
              "      <td>...</td>\n",
              "      <td>...</td>\n",
              "      <td>...</td>\n",
              "      <td>...</td>\n",
              "      <td>...</td>\n",
              "      <td>...</td>\n",
              "      <td>...</td>\n",
              "      <td>...</td>\n",
              "    </tr>\n",
              "    <tr>\n",
              "      <th>2935840</th>\n",
              "      <td>33</td>\n",
              "      <td>25</td>\n",
              "      <td>7409</td>\n",
              "      <td>299.00</td>\n",
              "      <td>55</td>\n",
              "      <td>10</td>\n",
              "      <td>3.0</td>\n",
              "      <td>298.006645</td>\n",
              "      <td>13</td>\n",
              "    </tr>\n",
              "    <tr>\n",
              "      <th>2935841</th>\n",
              "      <td>33</td>\n",
              "      <td>25</td>\n",
              "      <td>7393</td>\n",
              "      <td>349.00</td>\n",
              "      <td>55</td>\n",
              "      <td>10</td>\n",
              "      <td>1.0</td>\n",
              "      <td>345.544554</td>\n",
              "      <td>13</td>\n",
              "    </tr>\n",
              "    <tr>\n",
              "      <th>2935842</th>\n",
              "      <td>33</td>\n",
              "      <td>25</td>\n",
              "      <td>7384</td>\n",
              "      <td>749.00</td>\n",
              "      <td>55</td>\n",
              "      <td>10</td>\n",
              "      <td>1.0</td>\n",
              "      <td>741.584158</td>\n",
              "      <td>13</td>\n",
              "    </tr>\n",
              "    <tr>\n",
              "      <th>2935843</th>\n",
              "      <td>33</td>\n",
              "      <td>25</td>\n",
              "      <td>7459</td>\n",
              "      <td>349.00</td>\n",
              "      <td>55</td>\n",
              "      <td>10</td>\n",
              "      <td>1.0</td>\n",
              "      <td>345.544554</td>\n",
              "      <td>13</td>\n",
              "    </tr>\n",
              "    <tr>\n",
              "      <th>2935844</th>\n",
              "      <td>33</td>\n",
              "      <td>25</td>\n",
              "      <td>7440</td>\n",
              "      <td>299.00</td>\n",
              "      <td>57</td>\n",
              "      <td>10</td>\n",
              "      <td>1.0</td>\n",
              "      <td>296.039604</td>\n",
              "      <td>13</td>\n",
              "    </tr>\n",
              "  </tbody>\n",
              "</table>\n",
              "<p>2935845 rows × 9 columns</p>\n",
              "</div>"
            ],
            "text/plain": [
              "         date_block_num  shop_id  ...  (item_price, sum)  type\n",
              "0                     0       59  ...         989.108911    11\n",
              "1                     0       25  ...      179800.000000    13\n",
              "2                     0       25  ...      179800.000000    13\n",
              "3                     0       25  ...        1692.128713    13\n",
              "4                     0       25  ...        1088.118812    13\n",
              "...                 ...      ...  ...                ...   ...\n",
              "2935840              33       25  ...         298.006645    13\n",
              "2935841              33       25  ...         345.544554    13\n",
              "2935842              33       25  ...         741.584158    13\n",
              "2935843              33       25  ...         345.544554    13\n",
              "2935844              33       25  ...         296.039604    13\n",
              "\n",
              "[2935845 rows x 9 columns]"
            ]
          },
          "metadata": {
            "tags": []
          },
          "execution_count": 74
        }
      ]
    },
    {
      "cell_type": "code",
      "metadata": {
        "colab": {
          "base_uri": "https://localhost:8080/",
          "height": 449
        },
        "id": "qYlUr6ghhRTj",
        "outputId": "e76cb7de-b438-4251-c9cd-a8671fa35170"
      },
      "source": [
        "from sklearn.cluster import KMeans\n",
        "import seaborn as sns\n",
        "import numpy as np\n",
        "\n",
        "kmeans = KMeans(n_clusters=7, random_state=0).fit(X)\n",
        "X['kmeans'] = kmeans.labels_\n",
        "X"
      ],
      "execution_count": 75,
      "outputs": [
        {
          "output_type": "execute_result",
          "data": {
            "text/html": [
              "<div>\n",
              "<style scoped>\n",
              "    .dataframe tbody tr th:only-of-type {\n",
              "        vertical-align: middle;\n",
              "    }\n",
              "\n",
              "    .dataframe tbody tr th {\n",
              "        vertical-align: top;\n",
              "    }\n",
              "\n",
              "    .dataframe thead th {\n",
              "        text-align: right;\n",
              "    }\n",
              "</style>\n",
              "<table border=\"1\" class=\"dataframe\">\n",
              "  <thead>\n",
              "    <tr style=\"text-align: right;\">\n",
              "      <th></th>\n",
              "      <th>date_block_num</th>\n",
              "      <th>shop_id</th>\n",
              "      <th>item_id</th>\n",
              "      <th>item_price</th>\n",
              "      <th>item_category_id</th>\n",
              "      <th>month</th>\n",
              "      <th>(item_cnt_day, sum)</th>\n",
              "      <th>(item_price, sum)</th>\n",
              "      <th>type</th>\n",
              "      <th>kmeans</th>\n",
              "    </tr>\n",
              "  </thead>\n",
              "  <tbody>\n",
              "    <tr>\n",
              "      <th>0</th>\n",
              "      <td>0</td>\n",
              "      <td>59</td>\n",
              "      <td>22154</td>\n",
              "      <td>999.00</td>\n",
              "      <td>37</td>\n",
              "      <td>1</td>\n",
              "      <td>1.0</td>\n",
              "      <td>989.108911</td>\n",
              "      <td>11</td>\n",
              "      <td>4</td>\n",
              "    </tr>\n",
              "    <tr>\n",
              "      <th>1</th>\n",
              "      <td>0</td>\n",
              "      <td>25</td>\n",
              "      <td>2552</td>\n",
              "      <td>899.00</td>\n",
              "      <td>58</td>\n",
              "      <td>1</td>\n",
              "      <td>0.0</td>\n",
              "      <td>179800.000000</td>\n",
              "      <td>13</td>\n",
              "      <td>2</td>\n",
              "    </tr>\n",
              "    <tr>\n",
              "      <th>2</th>\n",
              "      <td>0</td>\n",
              "      <td>25</td>\n",
              "      <td>2552</td>\n",
              "      <td>899.00</td>\n",
              "      <td>58</td>\n",
              "      <td>1</td>\n",
              "      <td>0.0</td>\n",
              "      <td>179800.000000</td>\n",
              "      <td>13</td>\n",
              "      <td>2</td>\n",
              "    </tr>\n",
              "    <tr>\n",
              "      <th>3</th>\n",
              "      <td>0</td>\n",
              "      <td>25</td>\n",
              "      <td>2554</td>\n",
              "      <td>1709.05</td>\n",
              "      <td>58</td>\n",
              "      <td>1</td>\n",
              "      <td>1.0</td>\n",
              "      <td>1692.128713</td>\n",
              "      <td>13</td>\n",
              "      <td>0</td>\n",
              "    </tr>\n",
              "    <tr>\n",
              "      <th>4</th>\n",
              "      <td>0</td>\n",
              "      <td>25</td>\n",
              "      <td>2555</td>\n",
              "      <td>1099.00</td>\n",
              "      <td>56</td>\n",
              "      <td>1</td>\n",
              "      <td>1.0</td>\n",
              "      <td>1088.118812</td>\n",
              "      <td>13</td>\n",
              "      <td>0</td>\n",
              "    </tr>\n",
              "    <tr>\n",
              "      <th>...</th>\n",
              "      <td>...</td>\n",
              "      <td>...</td>\n",
              "      <td>...</td>\n",
              "      <td>...</td>\n",
              "      <td>...</td>\n",
              "      <td>...</td>\n",
              "      <td>...</td>\n",
              "      <td>...</td>\n",
              "      <td>...</td>\n",
              "      <td>...</td>\n",
              "    </tr>\n",
              "    <tr>\n",
              "      <th>2935840</th>\n",
              "      <td>33</td>\n",
              "      <td>25</td>\n",
              "      <td>7409</td>\n",
              "      <td>299.00</td>\n",
              "      <td>55</td>\n",
              "      <td>10</td>\n",
              "      <td>3.0</td>\n",
              "      <td>298.006645</td>\n",
              "      <td>13</td>\n",
              "      <td>0</td>\n",
              "    </tr>\n",
              "    <tr>\n",
              "      <th>2935841</th>\n",
              "      <td>33</td>\n",
              "      <td>25</td>\n",
              "      <td>7393</td>\n",
              "      <td>349.00</td>\n",
              "      <td>55</td>\n",
              "      <td>10</td>\n",
              "      <td>1.0</td>\n",
              "      <td>345.544554</td>\n",
              "      <td>13</td>\n",
              "      <td>0</td>\n",
              "    </tr>\n",
              "    <tr>\n",
              "      <th>2935842</th>\n",
              "      <td>33</td>\n",
              "      <td>25</td>\n",
              "      <td>7384</td>\n",
              "      <td>749.00</td>\n",
              "      <td>55</td>\n",
              "      <td>10</td>\n",
              "      <td>1.0</td>\n",
              "      <td>741.584158</td>\n",
              "      <td>13</td>\n",
              "      <td>0</td>\n",
              "    </tr>\n",
              "    <tr>\n",
              "      <th>2935843</th>\n",
              "      <td>33</td>\n",
              "      <td>25</td>\n",
              "      <td>7459</td>\n",
              "      <td>349.00</td>\n",
              "      <td>55</td>\n",
              "      <td>10</td>\n",
              "      <td>1.0</td>\n",
              "      <td>345.544554</td>\n",
              "      <td>13</td>\n",
              "      <td>0</td>\n",
              "    </tr>\n",
              "    <tr>\n",
              "      <th>2935844</th>\n",
              "      <td>33</td>\n",
              "      <td>25</td>\n",
              "      <td>7440</td>\n",
              "      <td>299.00</td>\n",
              "      <td>57</td>\n",
              "      <td>10</td>\n",
              "      <td>1.0</td>\n",
              "      <td>296.039604</td>\n",
              "      <td>13</td>\n",
              "      <td>0</td>\n",
              "    </tr>\n",
              "  </tbody>\n",
              "</table>\n",
              "<p>2935845 rows × 10 columns</p>\n",
              "</div>"
            ],
            "text/plain": [
              "         date_block_num  shop_id  item_id  ...  (item_price, sum)  type  kmeans\n",
              "0                     0       59    22154  ...         989.108911    11       4\n",
              "1                     0       25     2552  ...      179800.000000    13       2\n",
              "2                     0       25     2552  ...      179800.000000    13       2\n",
              "3                     0       25     2554  ...        1692.128713    13       0\n",
              "4                     0       25     2555  ...        1088.118812    13       0\n",
              "...                 ...      ...      ...  ...                ...   ...     ...\n",
              "2935840              33       25     7409  ...         298.006645    13       0\n",
              "2935841              33       25     7393  ...         345.544554    13       0\n",
              "2935842              33       25     7384  ...         741.584158    13       0\n",
              "2935843              33       25     7459  ...         345.544554    13       0\n",
              "2935844              33       25     7440  ...         296.039604    13       0\n",
              "\n",
              "[2935845 rows x 10 columns]"
            ]
          },
          "metadata": {
            "tags": []
          },
          "execution_count": 75
        }
      ]
    },
    {
      "cell_type": "markdown",
      "metadata": {
        "id": "S-PcDUAQiiL9"
      },
      "source": [
        "Generate training and testing data:"
      ]
    },
    {
      "cell_type": "code",
      "metadata": {
        "id": "45Jk6u7tii0W"
      },
      "source": [
        "from sklearn.model_selection import train_test_split\n",
        "X_train, X_test, y_train, y_test = train_test_split(X, target, random_state = 30, test_size = 0.3, train_size = 0.7)"
      ],
      "execution_count": 77,
      "outputs": []
    },
    {
      "cell_type": "code",
      "metadata": {
        "colab": {
          "base_uri": "https://localhost:8080/"
        },
        "id": "mFYCz7DSiojh",
        "outputId": "e4d82e37-99cd-4d44-922f-70f1ffbdc4f4"
      },
      "source": [
        "from sklearn import linear_model\n",
        "from sklearn.metrics import mean_squared_error\n",
        "import math \n",
        "\n",
        "regr = linear_model.LinearRegression()\n",
        "regr.fit(X_train, y_train)\n",
        "y_pred = regr.predict(X_test)\n",
        "mse = round(mean_squared_error(y_test, y_pred), 2)\n",
        "rmse = math.sqrt(mse)\n",
        "print(rmse)"
      ],
      "execution_count": 78,
      "outputs": [
        {
          "output_type": "stream",
          "text": [
            "1.849324200890693\n"
          ],
          "name": "stdout"
        }
      ]
    },
    {
      "cell_type": "code",
      "metadata": {
        "colab": {
          "base_uri": "https://localhost:8080/",
          "height": 302
        },
        "id": "HCnT1tU2isng",
        "outputId": "01a4e1c9-1cdc-4c6a-fd1c-5fdbdbd7746c"
      },
      "source": [
        "from matplotlib import pyplot\n",
        "importance = regr.coef_\n",
        "pyplot.bar([x for x in range(len(importance))], importance)\n",
        "pyplot.xticks([x for x in range(len(importance))], X.columns)\n",
        "pyplot.title('Feature Importance: Linear Regression')\n",
        "pyplot.show()"
      ],
      "execution_count": 79,
      "outputs": [
        {
          "output_type": "display_data",
          "data": {
            "image/png": "[encoded data removed]",
            "text/plain": [
              "<Figure size 432x288 with 1 Axes>"
            ]
          },
          "metadata": {
            "tags": [],
            "needs_background": "light"
          }
        }
      ]
    },
    {
      "cell_type": "code",
      "metadata": {
        "colab": {
          "base_uri": "https://localhost:8080/"
        },
        "id": "dx0D9bdJjkw1",
        "outputId": "c1bfec05-3aaf-482b-bf2f-aab315882d87"
      },
      "source": [
        "import numpy as np\n",
        "from sklearn.tree import DecisionTreeClassifier\n",
        "from sklearn.ensemble import RandomForestClassifier\n",
        "from sklearn.metrics import accuracy_score\n",
        "from sklearn.neighbors import KNeighborsClassifier\n",
        "from sklearn import metrics\n",
        "from sklearn.svm import SVC\n",
        "\n",
        "# Decisiontree\n",
        "dt = DecisionTreeClassifier(max_depth=3, random_state=0)\n",
        "dt.fit(X_train, y_train)\n",
        "y_pred_dt = dt.predict(X_test)\n",
        "mse = round(mean_squared_error(y_test, y_pred_dt), 2)\n",
        "rmse = math.sqrt(mse)\n",
        "print(rmse)"
      ],
      "execution_count": 80,
      "outputs": [
        {
          "output_type": "stream",
          "text": [
            "2.0952326839756963\n"
          ],
          "name": "stdout"
        }
      ]
    },
    {
      "cell_type": "code",
      "metadata": {
        "colab": {
          "base_uri": "https://localhost:8080/",
          "height": 302
        },
        "id": "c4Qotlw9jnWq",
        "outputId": "13da4422-50a7-44cc-820a-d0d986d300f0"
      },
      "source": [
        "importance = dt.feature_importances_\n",
        "pyplot.bar([x for x in range(len(importance))], importance)\n",
        "pyplot.xticks([x for x in range(len(importance))], X.columns)\n",
        "pyplot.title('Feature Importance: Decision Tree')\n",
        "pyplot.show()"
      ],
      "execution_count": 81,
      "outputs": [
        {
          "output_type": "display_data",
          "data": {
            "image/png": "[encoded data removed]",
            "text/plain": [
              "<Figure size 432x288 with 1 Axes>"
            ]
          },
          "metadata": {
            "tags": [],
            "needs_background": "light"
          }
        }
      ]
    },
    {
      "cell_type": "code",
      "metadata": {
        "colab": {
          "base_uri": "https://localhost:8080/"
        },
        "id": "-WYDsZ11jzO_",
        "outputId": "0b5d2651-e225-4d55-96cd-821c75cf64c5"
      },
      "source": [
        "# randomforestclassifier\n",
        "rf = RandomForestClassifier(max_depth=3, random_state=0)\n",
        "rf.fit(X_train, y_train)\n",
        "y_pred_rf = rf.predict(X_test)\n",
        "mse = round(mean_squared_error(y_test, y_pred_rf), 2)\n",
        "rmse = math.sqrt(mse)\n",
        "print(rmse)"
      ],
      "execution_count": 82,
      "outputs": [
        {
          "output_type": "stream",
          "text": [
            "2.130727575266252\n"
          ],
          "name": "stdout"
        }
      ]
    },
    {
      "cell_type": "code",
      "metadata": {
        "colab": {
          "base_uri": "https://localhost:8080/",
          "height": 302
        },
        "id": "vamRzXq8j5ei",
        "outputId": "659c0f63-aa6d-4d5f-9638-614bc0b891b4"
      },
      "source": [
        "importance = rf.feature_importances_\n",
        "pyplot.bar([x for x in range(len(importance))], importance)\n",
        "pyplot.xticks([x for x in range(len(importance))], X.columns)\n",
        "pyplot.title('Feature Importance: Random Forest')\n",
        "pyplot.show()"
      ],
      "execution_count": 83,
      "outputs": [
        {
          "output_type": "display_data",
          "data": {
            "image/png": "[encoded data removed]",
            "text/plain": [
              "<Figure size 432x288 with 1 Axes>"
            ]
          },
          "metadata": {
            "tags": [],
            "needs_background": "light"
          }
        }
      ]
    }
  ]
}